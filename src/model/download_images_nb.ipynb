{
 "cells": [
  {
   "cell_type": "code",
   "execution_count": 2,
   "id": "f322f9c6",
   "metadata": {},
   "outputs": [],
   "source": [
    "import requests\n",
    "import os\n",
    "import json"
   ]
  },
  {
   "cell_type": "code",
   "execution_count": 3,
   "id": "60632cad",
   "metadata": {},
   "outputs": [],
   "source": [
    "IMAGES_DIR = os.path.join(os.getcwd(), \"images\")\n",
    "os.makedirs(IMAGES_DIR, exist_ok=True)\n",
    "\n",
    "BASE_URL = \"https://labelerrors.com/static/imagenet/val/\"\n",
    "\n",
    "\n",
    "def download_image(image_id, src, given_label):\n",
    "    download_target_dir = os.path.join(IMAGES_DIR, given_label)\n",
    "    os.makedirs(download_target_dir, exist_ok=True)\n",
    "    download_target_path = os.path.join(download_target_dir, image_id + '.JPEG')    \n",
    "    r = requests.get(BASE_URL + src)\n",
    "    with open(download_target_path, 'wb') as outfile:\n",
    "        outfile.write(r.content)"
   ]
  },
  {
   "cell_type": "code",
   "execution_count": 4,
   "id": "5d0c2ea4",
   "metadata": {},
   "outputs": [],
   "source": [
    "with open('input_data_before_embeddings.json') as json_file:\n",
    "    images_data = json.load(json_file)"
   ]
  },
  {
   "cell_type": "code",
   "execution_count": 5,
   "id": "51fe4feb",
   "metadata": {},
   "outputs": [],
   "source": [
    "for img_data in images_data.values():\n",
    "    download_image(img_data['id'], img_data['src'], img_data['givenLabel'])"
   ]
  },
  {
   "cell_type": "code",
   "execution_count": null,
   "id": "0a132aaa",
   "metadata": {},
   "outputs": [],
   "source": []
  }
 ],
 "metadata": {
  "kernelspec": {
   "display_name": "Python 3 (ipykernel)",
   "language": "python",
   "name": "python3"
  },
  "language_info": {
   "codemirror_mode": {
    "name": "ipython",
    "version": 3
   },
   "file_extension": ".py",
   "mimetype": "text/x-python",
   "name": "python",
   "nbconvert_exporter": "python",
   "pygments_lexer": "ipython3",
   "version": "3.9.11"
  }
 },
 "nbformat": 4,
 "nbformat_minor": 5
}
